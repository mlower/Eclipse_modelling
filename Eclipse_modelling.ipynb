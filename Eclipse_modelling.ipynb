{
 "cells": [
  {
   "cell_type": "markdown",
   "metadata": {},
   "source": [
    "# Modelling the eclipse profile of PSR J0737-3039A by the magnetosphere of PSR J0737-3039B\n",
    "\n",
    "\n",
    "Throughout this notebook we will follow the pedagogy of Lyutikov & Thompson (2005), whom developed the original dipole B-field model for describing the Double Pulsar eclipses."
   ]
  },
  {
   "cell_type": "code",
   "execution_count": 1,
   "metadata": {},
   "outputs": [],
   "source": [
    "import numpy as np\n",
    "from scipy.integrate import simps\n",
    "import astropy.units as u\n",
    "import astropy.constants as c\n",
    "import matplotlib.pyplot as plt\n",
    "from mpl_toolkits.mplot3d import Axes3D"
   ]
  },
  {
   "cell_type": "markdown",
   "metadata": {},
   "source": [
    "Lyutikov & Thompson (2005) define a Cartesian coordinate system in which they model the eclipses of A by B. In this system, Pulsar B is placed at the origin where x is the line-of-sight plane from the pulsar to Earth, y lies along the projected oribtal direction of Pulsar A, and z is orthogonal to the x-y plane (normal to the orbital plane of the binary). In this system the apparent motion of Pulsar A around B occurs at a fixed value of $z = z_{0}$.\n",
    "\n",
    "We start by converting the oribtal phase to units of y (cm) as\n",
    "$$y(t) = \\frac{\\pi a}{2} \\Big[ 1 - \\Big( \\frac{\\phi_{\\mathrm{orb}}}{90^{\\circ}} \\Big) \\Big],$$\n",
    "where $a$ is the semi-major axis in cm and $\\phi_{\\mathrm{orb}}$ is the orbital phase in degrees. Note: $\\phi_{\\mathrm{orb}} = 0^{\\circ}$ corresponds to the eclipse centre."
   ]
  },
  {
   "cell_type": "code",
   "execution_count": 2,
   "metadata": {},
   "outputs": [],
   "source": [
    "def orbital_phase_to_y(semi_major_axis, phi_orb):\n",
    "    \"\"\" \n",
    "    Convert orbital phase to Cartesian y-coordinates.\n",
    "    Parameters\n",
    "    -----------\n",
    "    semi_major_axis: scalar\n",
    "        Semi-major axis of the orbit (cm)\n",
    "    phi_orb: array-like\n",
    "        Orbital phase (deg)\n",
    "    \"\"\"\n",
    "    return 0.5 * (np.pi * semi_major_axis) * (1 - (phi_orb/(90 * u.deg)))"
   ]
  },
  {
   "cell_type": "markdown",
   "metadata": {},
   "source": [
    "From here, we can calculate the radial distance of any given point to Pulsar B as\n",
    "$$ r(x, t) = \\sqrt{x^{2} + y^{2}(t) + z_{0}^{2}}. $$"
   ]
  },
  {
   "cell_type": "code",
   "execution_count": 3,
   "metadata": {},
   "outputs": [],
   "source": [
    "def radial_distance(x, y, z_0):\n",
    "    \"\"\"\n",
    "    Distance from a given point to pulsar B.\n",
    "    Parameters\n",
    "    ----------\n",
    "    x: array-like\n",
    "        x-coordinate (cm)\n",
    "    y: array-like\n",
    "        y-coordinate (cm)\n",
    "    z_0: array-like\n",
    "        z-coordinate (cm)\n",
    "    \"\"\"\n",
    "    return np.sqrt(x**2 + y**2 + z_0**2)"
   ]
  },
  {
   "cell_type": "markdown",
   "metadata": {},
   "source": [
    "The polar angle between the magnetic axis and $\\mathbf{r}$ is determined from the unit vector $\\hat{\\mathbf{\\mu}}(t)$ that is parallel to $\\mathbf{\\mu}_{B}(t)$,\n",
    "$$ \\cos(\\theta_{\\mu}) =  \\frac{\\hat{\\mathbf{\\mu}} \\cdot \\mathbf{r}}{r}$$.\n",
    "We can express the components of $\\hat{\\mathbf{\\mu}}$ in a coordinate system that is aligned with the spin axis ($\\Omega_{B}$) as\n",
    "$$ \\hat{\\mu}^{\\Omega}_{x} = \\sin(\\alpha) \\cos(\\Omega_{B}t), $$\n",
    "$$ \\hat{\\mu}^{\\Omega}_{y} = \\sin(\\alpha) \\sin(\\Omega_{B}t), $$\n",
    "$$ \\hat{\\mu}^{\\Omega}_{z} = \\cos(\\alpha), $$\n",
    "where $\\alpha$ is the angle between the spin and magnetic axes.\n",
    "Transformed into the observer frame, these components are expressed as\n",
    "$$ \\hat{\\mu}_{x} = (\\hat{\\mu}^{\\Omega}_{x}\\cos(\\theta) + \\hat{\\mu}^{\\Omega}_{z}\\sin(\\theta))\\cos(\\phi) - \\hat{\\mu}^{\\Omega}_{y}\\sin(\\theta), $$\n",
    "$$ \\hat{\\mu}_{y} = \\hat{\\mu}^{\\Omega}_{y}\\cos(\\phi) + (\\hat{\\mu}^{\\Omega}_{x}\\cos(\\theta) + \\hat{\\mu}^{\\Omega}_{z}\\sin(\\theta))\\sin(\\theta), $$\n",
    "$$ \\hat{\\mu}_{z} = \\hat{\\mu}^{\\Omega}_{z}\\cos(\\theta) - \\hat{\\mu}^{\\Omega}_{x}\\sin(\\theta). $$"
   ]
  },
  {
   "cell_type": "code",
   "execution_count": 4,
   "metadata": {},
   "outputs": [],
   "source": [
    "def spin_aligned_magnetic_polar_angle(time, alpha):\n",
    "    \"\"\"\n",
    "    Returns the x,y & z components of the unit vector projected along the spin axis.\n",
    "    Parameters\n",
    "    ----------\n",
    "    time: array-like\n",
    "        Time (s)\n",
    "    alpha: scalar\n",
    "        Angle between magnetic and spin axes (deg)\n",
    "    \"\"\"\n",
    "    \n",
    "    # Rotational rate of Pulsar B in units of degrees/s\n",
    "    Omega_B = (360 * u.deg) / (2.77 * u.s)\n",
    "    \n",
    "    mu_hat_omega_x = np.sin(alpha) * np.cos(Omega_B * time)\n",
    "    mu_hat_omega_y = np.sin(alpha) * np.sin(Omega_B * time)\n",
    "    mu_hat_omega_z = np.cos(alpha)\n",
    "    \n",
    "    return mu_hat_omega_x, mu_hat_omega_y, mu_hat_omega_z"
   ]
  },
  {
   "cell_type": "code",
   "execution_count": 5,
   "metadata": {},
   "outputs": [],
   "source": [
    "def Cartesian_magnetic_polar_angle(time, alpha, theta, phi):\n",
    "    \"\"\"\n",
    "    Returns the unit vector components in Cartesian coordinates.\n",
    "    Parameters\n",
    "    ----------\n",
    "    time: array-like\n",
    "        Time (s)\n",
    "    alpha: scalar\n",
    "        Angle between magnetic and spin axes (deg)\n",
    "    Omega_B: scalar\n",
    "        Rate at which the spin-axis precesses (deg/yr)\n",
    "    theta: scalar\n",
    "        Projected angle of the spin axis in the x-z plane (deg)\n",
    "    phi: scalar\n",
    "        Projected angle of the spin axis in the x-y plane (deg)\n",
    "    \"\"\"\n",
    "    mu_hat_omega_x, mu_hat_omega_y, mu_hat_omega_z = spin_aligned_magnetic_polar_angle(time, alpha)\n",
    "    \n",
    "    mu_hat_x = (mu_hat_omega_x*np.cos(theta) + mu_hat_omega_z*np.sin(theta))*np.cos(phi) - mu_hat_omega_y*np.sin(phi)\n",
    "    mu_hat_y = mu_hat_omega_y*np.cos(phi) + (mu_hat_omega_x*np.cos(theta) + mu_hat_omega_z*np.sin(theta))*np.sin(phi)\n",
    "    mu_hat_z = mu_hat_omega_z*np.sin(theta) - mu_hat_omega_x*np.cos(theta)\n",
    "    \n",
    "    return mu_hat_x, mu_hat_y, mu_hat_z"
   ]
  },
  {
   "cell_type": "code",
   "execution_count": 6,
   "metadata": {},
   "outputs": [],
   "source": [
    "def cosine_polar_angle(mu_hat, coords, r):\n",
    "    \"\"\"\n",
    "    Returns the cosine of the magnetic polar angle.\n",
    "    Parameters\n",
    "    ----------\n",
    "    mu_hat: array-like\n",
    "        Vector of x, y & z components of mu_hat (unitless)\n",
    "    coords: array-like\n",
    "        Cartesian coordinates (cm)\n",
    "    r: array-like\n",
    "        Radial coordinates from Pulsar B (cm)\n",
    "    \"\"\"\n",
    "    return sum([i*j for (i, j) in zip(mu_hat, coords)])/r"
   ]
  },
  {
   "cell_type": "markdown",
   "metadata": {},
   "source": [
    "The strength of Pulsar B's magnetic field at position $\\mathbf{x}$ is\n",
    "$$ B = \\frac{\\sqrt{ 1 + 3\\cos^{2}(\\theta_{\\mu}) }}{r^{3}} \\mu_{B}. $$"
   ]
  },
  {
   "cell_type": "code",
   "execution_count": 7,
   "metadata": {},
   "outputs": [],
   "source": [
    "def local_B_field(mu_hat, r, mu_B, cos_theta_mu):\n",
    "    \"\"\"\n",
    "    Magnetic field strength along the line of sight.\n",
    "    Parameters\n",
    "    ----------\n",
    "    r: array-like?\n",
    "        Radial coordinates from Pulsar B (cm)\n",
    "    mu_B: scalar?\n",
    "        Magnitude of the magnetic moment (deg?)\n",
    "    cos_theta_mu: array-like\n",
    "        Cosine of the polar angle (unitless)\n",
    "    \"\"\"\n",
    "    return mu_B * np.sqrt(1 + 3*(cos_theta_mu**2))/(r**3)"
   ]
  },
  {
   "cell_type": "markdown",
   "metadata": {},
   "source": [
    "The angle between the local magnetic field direction and the line-of-sight is given by:\n",
    "$$ \\cos(\\kappa) = \\frac{B_{x}}{B} = \\frac{3\\cos(\\theta_{\\mu})(x/r) - \\hat{\\mu}_{x}}{\\sqrt{1 + 3\\cos^{2}(\\theta_{\\mu})}} $$"
   ]
  },
  {
   "cell_type": "code",
   "execution_count": 8,
   "metadata": {},
   "outputs": [],
   "source": [
    "def kappa(x, r, mu_x, cos_theta_mu):\n",
    "    \"\"\"\n",
    "    Angle between the local magnetic field direction and the line-of-sight.\n",
    "    Parameters\n",
    "    ----------\n",
    "    x: array-like\n",
    "        Values along the line of sight (cm)\n",
    "    r: array-like\n",
    "        Radial coordinates from Pulsar B (cm)\n",
    "    mu_x: array_like\n",
    "        Unit vector along in the x-direction (cm)\n",
    "    cos_theta_mu: array-like\n",
    "        Cosine of the polar angle (unitless)\n",
    "    \"\"\"\n",
    "    \n",
    "    return 3 * ((cos_theta_mu*(x/r)) - mu_x)/np.sqrt(1 + 3*(cos_theta_mu**2)) * u.rad"
   ]
  },
  {
   "cell_type": "markdown",
   "metadata": {},
   "source": [
    "Combining all of this together, we can derive the optical depth by integrating over the absorption coefficient for $-R_{\\mathrm{mag}} < x < +R_{\\mathrm{mag}}$ as\n",
    "$$ \\tau = \\xi \\int^{+R_{\\mathrm{mag}}}_{-R_{\\mathrm{mag}}} \\Big( \\frac{B\\sin(\\kappa)}{B_{\\mathrm{mag}}} \\Big) d\\Big( \\frac{x}{R_{\\mathrm{mag}}} \\Big) ,$$\n",
    "where $\\xi$ is the characteristic optical depth of Pulsar B's magnetosphere."
   ]
  },
  {
   "cell_type": "code",
   "execution_count": 9,
   "metadata": {},
   "outputs": [],
   "source": [
    "def optical_depth(x, xi, B, cos_theta_mu, r, mu_x, B_mag, R_mag):\n",
    "    \"\"\"\n",
    "    Optical depth of Pulsar B's magnetosphere.\n",
    "    Parameters\n",
    "    ----------\n",
    "    x: array-like\n",
    "        Values along the line of sight (cm)\n",
    "    xi: scalar\n",
    "        Characteristic optical depth of B's magnetosphere (unitless)\n",
    "    B: array-like\n",
    "        Local dipolar magnetic field strength (G)\n",
    "    cos_theta_mu: array-like\n",
    "        Cosine of the angle between the local magnetic field direction and the line-of-sight (unitless)\n",
    "    B_mag: scalar\n",
    "        Magnetic field strength at the truncation radius (deg)\n",
    "    R_mag: scalar\n",
    "        Truncation radius of B's magnetosphere (cm)\n",
    "    \"\"\"\n",
    "    \n",
    "    sin_kappa = np.sin(kappa(cos_theta_mu, x/R_mag, r/R_mag, mu_x))\n",
    "    \n",
    "    tau = xi * (B * sin_kappa)/B_mag\n",
    "    \n",
    "    return simps(tau, x/R_mag)"
   ]
  },
  {
   "cell_type": "markdown",
   "metadata": {},
   "source": []
  },
  {
   "cell_type": "code",
   "execution_count": 10,
   "metadata": {},
   "outputs": [],
   "source": [
    "def eclipse_lightcurve(coords, R_mag, parameters):\n",
    "    \"\"\"\n",
    "    (Currently) returns an estimate of the optical depth due to absorbtion by Pulsar B's magnetosphere.\n",
    "    Paramters\n",
    "    ---------\n",
    "    coords: array-like\n",
    "        Array containing the Cartesian coordinates (cm)\n",
    "    R_mag: scalar\n",
    "        Truncation radius of the magnetosphere (cm)\n",
    "    parameters: dict\n",
    "        Dictionary containing values of the magnetic/spin axes offset, alpha, \n",
    "        spin-axis co-latitude and longitude, theta & phi (deg)\n",
    "    \"\"\"\n",
    "    # Distance from a given point to pulsar B\n",
    "    r = radial_distance(x, y, z)\n",
    "    \n",
    "    # Unit vector in Cartesian coordinates\n",
    "    mu_hat = Cartesian_magnetic_polar_angle(time, parameters[\"alpha\"], parameters[\"theta\"], parameters[\"phi\"])\n",
    "    \n",
    "    # Cosine of the magnetic polar angle\n",
    "    cos_theta_mu = cosine_polar_angle(mu_hat, coords, r)\n",
    "    \n",
    "    # Angle between the local magnetic field direction and the line-of-sight\n",
    "    sin_kappa = np.sin(kappa(x, r, mu_hat[0], cos_theta_mu))\n",
    "    \n",
    "    # Local magnetic field strength along the line of sight\n",
    "    B = local_B_field(mu_hat, r, 1, cos_theta_mu)\n",
    "    \n",
    "    # Optical depth\n",
    "    tau = np.array([])\n",
    "    for i in range(0, n):\n",
    "        tau = np.append(tau, optical_depth(x, (3e5 * (1.4**(5/3))), B[i], cos_theta_mu[i], r[i], \n",
    "                                               mu_hat[0], 1, R_mag))\n",
    "        \n",
    "    return tau"
   ]
  },
  {
   "cell_type": "code",
   "execution_count": 11,
   "metadata": {},
   "outputs": [],
   "source": [
    "a_sin_i = 1.415032 * u.s\n",
    "semi_major_axis = 8.8e10 * u.cm#((c.c * a_sin_i)/np.sin(88.1 * u.deg)).cgs"
   ]
  },
  {
   "cell_type": "code",
   "execution_count": 12,
   "metadata": {},
   "outputs": [],
   "source": [
    "n = 256\n",
    "time = np.linspace(0, 4*24.5, n) * u.s\n",
    "phi_orb = np.linspace(90-2, 90+2, n) * u.deg\n",
    "\n",
    "R_mag = orbital_phase_to_y(semi_major_axis, (90+1.0) * u.deg)\n",
    "\n",
    "y = orbital_phase_to_y(semi_major_axis, phi_orb)\n",
    "x = np.linspace(-R_mag.value, R_mag.value, n) * u.cm\n",
    "z = np.ones(n) * -7.5e8 * u.cm#-0.543 * R_mag\n",
    "coords = np.array([x, y, z]) * u.cm"
   ]
  },
  {
   "cell_type": "code",
   "execution_count": 13,
   "metadata": {},
   "outputs": [],
   "source": [
    "parameters = dict(alpha=71*u.deg, theta=130*u.deg, phi=51*u.deg)"
   ]
  },
  {
   "cell_type": "code",
   "execution_count": 14,
   "metadata": {},
   "outputs": [],
   "source": [
    "tau = eclipse_lightcurve(coords, R_mag, parameters)"
   ]
  },
  {
   "cell_type": "code",
   "execution_count": 17,
   "metadata": {},
   "outputs": [
    {
     "data": {
      "text/plain": [
       "Text(0, 0.5, '$-\\\\tau(\\\\phi)$')"
      ]
     },
     "execution_count": 17,
     "metadata": {},
     "output_type": "execute_result"
    },
    {
     "data": {
      "image/png": "[encoded data removed]",
      "text/plain": [
       "<Figure size 432x288 with 1 Axes>"
      ]
     },
     "metadata": {
      "needs_background": "light"
     },
     "output_type": "display_data"
    }
   ],
   "source": [
    "plt.plot(phi_orb-(90*u.deg), -tau)\n",
    "plt.xlabel(\"Orbital phase\", fontsize=12)\n",
    "plt.ylabel(r\"$-\\tau(\\phi)$\", fontsize=12)"
   ]
  },
  {
   "cell_type": "markdown",
   "metadata": {},
   "source": [
    "Note: I'm not sure what values to expect for the optical depth, but the above values do seem a little small... "
   ]
  },
  {
   "cell_type": "markdown",
   "metadata": {},
   "source": [
    "Still need actual values for $B_{\\mathrm{mag}}$ and $\\mu_{B}$, so getting those might help."
   ]
  },
  {
   "cell_type": "code",
   "execution_count": null,
   "metadata": {},
   "outputs": [],
   "source": []
  }
 ],
 "metadata": {
  "kernelspec": {
   "display_name": "Python 3",
   "language": "python",
   "name": "python3"
  },
  "language_info": {
   "codemirror_mode": {
    "name": "ipython",
    "version": 3
   },
   "file_extension": ".py",
   "mimetype": "text/x-python",
   "name": "python",
   "nbconvert_exporter": "python",
   "pygments_lexer": "ipython3",
   "version": "3.7.4"
  }
 },
 "nbformat": 4,
 "nbformat_minor": 4
}
