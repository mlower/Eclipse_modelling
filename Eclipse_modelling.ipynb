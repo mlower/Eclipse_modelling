{
 "cells": [
  {
   "cell_type": "markdown",
   "metadata": {},
   "source": [
    "# Modelling the eclipse profile of PSR J0737-3039A by the magnetosphere of PSR J0737-3039B\n",
    "\n",
    "\n",
    "Throughout this notebook we will follow the pedagogy of Lyutikov & Thompson (2005), whom developed the original dipole B-field model for describing the Double Pulsar eclipses."
   ]
  },
  {
   "cell_type": "code",
   "execution_count": 1,
   "metadata": {},
   "outputs": [],
   "source": [
    "import numpy as np\n",
    "from scipy.integrate import simps\n",
    "import astropy.units as u\n",
    "import astropy.constants as c\n",
    "import matplotlib.pyplot as plt\n",
    "from mpl_toolkits.mplot3d import Axes3D"
   ]
  },
  {
   "cell_type": "markdown",
   "metadata": {},
   "source": [
    "Lyutikov & Thompson (2005) define a Cartesian coordinate system in which they model the eclipses of A by B. In this system, Pulsar B is placed at the origin where x is the line-of-sight plane from the pulsar to Earth, y lies along the projected oribtal direction of Pulsar A, and z is orthogonal to the x-y plane (normal to the orbital plane of the binary). In this system the apparent motion of Pulsar A around B occurs at a fixed value of $z = z_{0}$.\n",
    "\n",
    "We start by converting the oribtal phase to units of y (cm) as\n",
    "$$y(t) = \\frac{\\pi a}{2} \\Big[ 1 - \\Big( \\frac{\\phi_{\\mathrm{orb}}}{90^{\\circ}} \\Big) \\Big],$$\n",
    "where $a$ is the semi-major axis in cm and $\\phi_{\\mathrm{orb}}$ is the orbital phase in degrees. Note: $\\phi_{\\mathrm{orb}} = 0^{\\circ}$ corresponds to the eclipse centre."
   ]
  },
  {
   "cell_type": "code",
   "execution_count": 2,
   "metadata": {},
   "outputs": [],
   "source": [
    "def get_y_from_orbital_phase(semi_major_axis, phi_orb):\n",
    "    \"\"\"\n",
    "    Returns the y-coordinates corresponding to the input orbital phase.\n",
    "    Parameters\n",
    "    ----------\n",
    "    semi_major_axis: scalar-like\n",
    "        Semi-major axis (cm)\n",
    "    phi_orb: array-like\n",
    "        Orbital phase (deg)\n",
    "    \"\"\"\n",
    "    return ((np.pi * semi_major_axis)/2) * (1 - (phi_orb/(90 * u.deg)))"
   ]
  },
  {
   "cell_type": "markdown",
   "metadata": {},
   "source": [
    "From here, we can calculate the radial distance of any given point to Pulsar B as\n",
    "$$ r(x, t) = \\sqrt{x^{2} + y^{2}(t) + z_{0}^{2}}. $$"
   ]
  },
  {
   "cell_type": "code",
   "execution_count": 3,
   "metadata": {},
   "outputs": [],
   "source": [
    "def radial_distance(x, y, z_0):\n",
    "    \"\"\"\n",
    "    Distance from a given point to pulsar B.\n",
    "    Parameters\n",
    "    ----------\n",
    "    x: array-like\n",
    "        x-coordinate (cm)\n",
    "    y: array-like\n",
    "        y-coordinate (cm)\n",
    "    z_0: array-like\n",
    "        z-coordinate (cm)\n",
    "    \"\"\"\n",
    "    return np.sqrt(x**2 + y**2 + z_0**2)"
   ]
  },
  {
   "cell_type": "markdown",
   "metadata": {},
   "source": [
    "The transform between the co-latitude and longitude of the spin axis from a coordinate system aligned with the total anglula mometum vector ($\\delta$, $\\phi_{\\mathrm{so}}$) to Cartesian coordinates ($\\theta$, $\\phi$) is given by\n",
    "$$ \\cos(\\theta) = \\cos(90^{\\circ} - i)\\cos(\\delta) - \\sin(90 - i)\\sin(\\delta)\\cos(\\phi_{\\mathrm{so}}), $$\n",
    "$$ \\sin(\\phi) = \\frac{\\sin(\\delta)\\sin(\\phi_{\\mathrm{so}})}{\\sin(\\theta)}, $$\n",
    "where $i$ is the orbital inclination from the observer's perspective."
   ]
  },
  {
   "cell_type": "code",
   "execution_count": 4,
   "metadata": {},
   "outputs": [],
   "source": [
    "def get_cos_theta(i, delta, phi_SO):\n",
    "    \"\"\"\n",
    "    Colatitude of Pulsar B's spin axis w.r.t the z-axis\n",
    "    Parameters\n",
    "    ----------\n",
    "    i: scalar-like\n",
    "        Orbital inclination (deg)\n",
    "    delta: scalar-like\n",
    "        Colatitude of Pulsar B's spin axis w.r.t the total angular \n",
    "        momentm vector (deg)\n",
    "    phi_SO: scalar-like\n",
    "        Longitude of Pulsar B's spin axis w.r.t. the total angular \n",
    "        momentm vector (deg)\n",
    "    \"\"\"\n",
    "    return np.cos((90 * u.deg) - i)*np.cos(delta) - np.sin((90 * u.deg) \n",
    "               - i)*np.sin(delta)*np.cos(phi_SO)"
   ]
  },
  {
   "cell_type": "code",
   "execution_count": 5,
   "metadata": {},
   "outputs": [],
   "source": [
    "def get_sin_phi(delta, phi_SO, theta):\n",
    "    \"\"\"\n",
    "    Longitude of Pulsar B's spin axis w.r.t the z-axis\n",
    "    Parameters\n",
    "    ----------\n",
    "    delta: scalar-like\n",
    "        Colatitude of Pulsar B's spin axis w.r.t the total angular \n",
    "        momentm vector (deg)\n",
    "    phi_SO: scalar-like\n",
    "        Longitude of Pulsar B's spin axis w.r.t. the total angular \n",
    "        momentm vector (deg)\n",
    "    theta: scalar-like\n",
    "        Colatitude of Pulsar B's spin axis w.r.t the z-axis (deg)\n",
    "    \"\"\"\n",
    "    return (np.sin(delta) * np.sin(phi_SO))/np.sin(theta)"
   ]
  },
  {
   "cell_type": "markdown",
   "metadata": {},
   "source": [
    "The polar angle between the magnetic axis and $\\mathbf{r}$ is determined from the unit vector $\\hat{\\mathbf{\\mu}}(t)$ that is parallel to $\\mathbf{\\mu}_{B}(t)$,\n",
    "$$ \\cos(\\theta_{\\mu}) =  \\frac{\\hat{\\mathbf{\\mu}} \\cdot \\mathbf{r}}{r}$$.\n",
    "We can express the components of $\\hat{\\mathbf{\\mu}}$ in a coordinate system that is aligned with the spin axis ($\\Omega_{B}$) as\n",
    "$$ \\hat{\\mu}^{\\Omega}_{x} = \\sin(\\alpha) \\cos(\\Omega_{B}t), $$\n",
    "$$ \\hat{\\mu}^{\\Omega}_{y} = \\sin(\\alpha) \\sin(\\Omega_{B}t), $$\n",
    "$$ \\hat{\\mu}^{\\Omega}_{z} = \\cos(\\alpha), $$\n",
    "where $\\alpha$ is the angle between the spin and magnetic axes.\n",
    "Transformed into the observer frame, these components are expressed as\n",
    "$$ \\hat{\\mu}_{x} = (\\hat{\\mu}^{\\Omega}_{x}\\cos(\\theta) + \\hat{\\mu}^{\\Omega}_{z}\\sin(\\theta))\\cos(\\phi) - \\hat{\\mu}^{\\Omega}_{y}\\sin(\\theta), $$\n",
    "$$ \\hat{\\mu}_{y} = \\hat{\\mu}^{\\Omega}_{y}\\cos(\\phi) + (\\hat{\\mu}^{\\Omega}_{x}\\cos(\\theta) + \\hat{\\mu}^{\\Omega}_{z}\\sin(\\theta))\\sin(\\theta), $$\n",
    "$$ \\hat{\\mu}_{z} = \\hat{\\mu}^{\\Omega}_{z}\\cos(\\theta) - \\hat{\\mu}^{\\Omega}_{x}\\sin(\\theta). $$"
   ]
  },
  {
   "cell_type": "code",
   "execution_count": 6,
   "metadata": {},
   "outputs": [],
   "source": [
    "def spin_aligned_dipole_unit_vector_components(alpha, time):\n",
    "    \"\"\"\n",
    "    Componentents of the dipole unit vector (mu-hat) aligned with the spin-axis.\n",
    "    Parameters\n",
    "    ----------\n",
    "    alpha: scalar-like\n",
    "        Angle between the spin and magnetic axes (deg)\n",
    "    time: array-like\n",
    "        Times at which the light-curve is being computed (s)\n",
    "    \"\"\"\n",
    "    # Position of the \n",
    "    OM_B = (2 * np.pi * u.rad)/(2.77 * u.s)\n",
    "    \n",
    "    # Unit vecor components (spin-aligned)\n",
    "    mu_hat_omega_x = np.sin(alpha) * np.cos(OM_B * time)\n",
    "    mu_hat_omega_y = np.sin(alpha) * np.sin(OM_B * time)\n",
    "    mu_hat_omega_z = np.cos(alpha)\n",
    "    \n",
    "    return mu_hat_omega_x, mu_hat_omega_y, mu_hat_omega_z"
   ]
  },
  {
   "cell_type": "code",
   "execution_count": 7,
   "metadata": {},
   "outputs": [],
   "source": [
    "def cartesian_dipole_unit_vector_components(alpha, time, i, delta, phi_SO):\n",
    "    \"\"\"\n",
    "    Componentents of the dipole unit vector (mu-hat) in Cartesian coordinates.\n",
    "    Parameters\n",
    "    ----------\n",
    "    alpha: scalar-like\n",
    "        Angle between the spin and magnetic axes (deg)\n",
    "    time: array-like\n",
    "        Times at which the light-curve is being computed (s)\n",
    "    i: scalar-like\n",
    "        Orbital inclination (deg)\n",
    "    delta: scalar-like\n",
    "        Colatitude of Pulsar B's spin axis w.r.t the total angular \n",
    "        momentm vector (deg)\n",
    "    phi_SO: scalar-like\n",
    "        Colongitude of Pulsar B's spin axis w.r.t. the total angular \n",
    "        momentm vector (deg)    \n",
    "    \"\"\"\n",
    "    # Colatitude and longitude of Pulsar B's spin axis\n",
    "    cos_theta = get_cos_theta(i, delta, phi_SO)\n",
    "    sin_theta = np.sin(np.arccos(cos_theta))\n",
    "    sin_phi = get_sin_phi(delta, phi_SO, np.arccos(cos_theta))\n",
    "    cos_phi = np.cos(np.arcsin(sin_phi))\n",
    "    \n",
    "    # Unit vecor components (spin-aligned)\n",
    "    mu_hat_omega = spin_aligned_dipole_unit_vector_components(alpha, time)\n",
    "    \n",
    "    # Unit vecor components (Cartesian)\n",
    "    mu_hat_x = ((mu_hat_omega[0]*cos_theta + mu_hat_omega[2]*sin_theta)\n",
    "        *cos_phi - mu_hat_omega[1]*sin_phi)\n",
    "    mu_hat_y = ((mu_hat_omega[0]*cos_theta + mu_hat_omega[2]*sin_theta)\n",
    "        *sin_phi - mu_hat_omega[1]*cos_phi)\n",
    "    mu_hat_z = mu_hat_omega[2]*cos_theta - mu_hat_omega[0]*sin_theta\n",
    "    \n",
    "    return mu_hat_x, mu_hat_y, mu_hat_z"
   ]
  },
  {
   "cell_type": "code",
   "execution_count": 8,
   "metadata": {},
   "outputs": [],
   "source": [
    "def cos_magnetic_polar_angle(mu_hat, r_vector, r_scalar):\n",
    "    \"\"\"\n",
    "    Returns the cosine of the magnetic polar angle.\n",
    "    Parameters\n",
    "    ----------\n",
    "    mu_hat: array-like\n",
    "        Vector of x, y & z components of mu_hat (unitless)\n",
    "    r_vector: array-like\n",
    "        Cartesian coordinates (cm)\n",
    "    r_scalar: array-like\n",
    "        Radial coordinates from Pulsar B (cm)\n",
    "    \"\"\"\n",
    "    return sum([i*j for (i, j) in zip(mu_hat, r_vector)])/r_scalar"
   ]
  },
  {
   "cell_type": "markdown",
   "metadata": {},
   "source": [
    "The strength of Pulsar B's magnetic field at position $\\mathbf{x}$ is\n",
    "$$ B = \\frac{\\sqrt{ 1 + 3\\cos^{2}(\\theta_{\\mu}) }}{r^{3}} \\mu_{B}. $$"
   ]
  },
  {
   "cell_type": "code",
   "execution_count": 9,
   "metadata": {},
   "outputs": [],
   "source": [
    "def dipole_field_strength(cos_theta_mu, r_scalar, mu_B):\n",
    "    \"\"\"\n",
    "    Magnetic field strength along the line of sight.\n",
    "    Parameters\n",
    "    ----------\n",
    "    cos_theta_mu: array-like\n",
    "        Cosine of the polar angle (unitless)\n",
    "    r_scalar: array-like\n",
    "        Radial coordinates from Pulsar B (cm)\n",
    "    mu_B: scalar?\n",
    "        Magnitude of the magnetic moment (deg?)\n",
    "    \"\"\"\n",
    "    return mu_B * np.sqrt(1 + 3*(cos_theta_mu**2))/(r_scalar**3)"
   ]
  },
  {
   "cell_type": "markdown",
   "metadata": {},
   "source": [
    "The angle between the local magnetic field direction and the line-of-sight is given by:\n",
    "$$ \\cos(\\kappa) = \\frac{B_{x}}{B} = \\frac{3\\cos(\\theta_{\\mu})(x/r) - \\hat{\\mu}_{x}}{\\sqrt{1 + 3\\cos^{2}(\\theta_{\\mu})}} $$"
   ]
  },
  {
   "cell_type": "code",
   "execution_count": 10,
   "metadata": {},
   "outputs": [],
   "source": [
    "def get_sin_kappa(cos_theta_mu, x, r_scalar, mu_hat_x):\n",
    "    \"\"\"\n",
    "    Angle between the local magnetic field direction and the line-of-sight.\n",
    "    Parameters\n",
    "    ----------\n",
    "    cos_theta_mu: array-like\n",
    "        Cosine of the polar angle (unitless)\n",
    "    x: array-like\n",
    "        Values along the line of sight (cm)\n",
    "    r_scalar: array-like\n",
    "        Radial coordinates from Pulsar B (cm)\n",
    "    mu_hat_x: array_like\n",
    "        Unit vector along in the x-direction (cm)\n",
    "    \"\"\"\n",
    "    \n",
    "    return ((3*cos_theta_mu*(x/r_scalar)) - mu_hat_x)/np.sqrt(1 + 3*(cos_theta_mu**2))"
   ]
  },
  {
   "cell_type": "markdown",
   "metadata": {},
   "source": [
    "Combining all of this together, we can derive the optical depth by integrating over the absorption coefficient for $-R_{\\mathrm{mag}} < x < +R_{\\mathrm{mag}}$ as\n",
    "$$ \\tau = \\xi \\int^{+R_{\\mathrm{mag}}}_{-R_{\\mathrm{mag}}} \\Big( \\frac{B\\sin(\\kappa)}{B_{\\mathrm{mag}}} \\Big) d\\Big( \\frac{x}{R_{\\mathrm{mag}}} \\Big) ,$$\n",
    "where $\\xi$ is the characteristic optical depth of Pulsar B's magnetosphere."
   ]
  },
  {
   "cell_type": "code",
   "execution_count": 11,
   "metadata": {},
   "outputs": [],
   "source": [
    "def get_optical_depth(xi, freq, B_field, B_mag, sin_kappa, x_coords, R_mag):\n",
    "    \"\"\"\n",
    "    Optical depth of Pulsar B's magnetosphere.\n",
    "    Parameters\n",
    "    ----------\n",
    "    xi: scalar\n",
    "        Characteristic optical depth of B's magnetosphere (unitless)\n",
    "    freq: scalar-like\n",
    "        Observing frequency (GHz)\n",
    "    B_field: array-like\n",
    "        Local dipolar magnetic field strength (G)\n",
    "    B_mag: scalar-like\n",
    "        Magnetic field strength at the truncation radius (G)\n",
    "    sin_kappa: array-like\n",
    "        Sine of the angle between the local magnetic field direction and the \n",
    "        line-of-sight (unitless)\n",
    "    x_coords: array-like\n",
    "        Values along the line of sight (cm)\n",
    "    R_mag: scalar\n",
    "        Truncation radius of B's magnetosphere (cm)\n",
    "    \"\"\"\n",
    "    # Compute optical depth along the line of sight\n",
    "    tau = xi * (B_field * sin_kappa)/B_mag\n",
    "\n",
    "    # Integrate over the line of sight\n",
    "    return simps(tau, x_coords/R_mag)"
   ]
  },
  {
   "cell_type": "markdown",
   "metadata": {},
   "source": []
  },
  {
   "cell_type": "code",
   "execution_count": 12,
   "metadata": {},
   "outputs": [],
   "source": [
    "def light_curve(time, r_vector, R_mag, B_mag, mu_B, parameters):\n",
    "    \"\"\"\n",
    "    (Currently) returns an estimate of the optical depth due to absorbtion \n",
    "    by Pulsar B's magnetosphere.\n",
    "    Paramters\n",
    "    ---------\n",
    "    r_vector: array-like\n",
    "        Array containing the Cartesian coordinates (cm)\n",
    "    R_mag: scalar\n",
    "        Truncation radius of the magnetosphere (cm)\n",
    "    B_mag: scalar-like\n",
    "        ...\n",
    "    mu_B: scalar-like\n",
    "        ...\n",
    "    parameters: dict\n",
    "        Dictionary containing values of the magnetic/spin axes offset, alpha, \n",
    "        spin-axis co-latitude and longitude, theta & phi (deg)\n",
    "    \"\"\"\n",
    "    # Distance from a given point to Pulsar B\n",
    "    r_scalar = radial_distance(r_vector[0], r_vector[1], r_vector[2])\n",
    "    \n",
    "    # Unit vector aligned with the magnetic dipole axis\n",
    "    dipole_unit_vector = cartesian_dipole_unit_vector_components(parameters[\"alpha\"], \n",
    "        time, parameters[\"i\"], parameters[\"delta\"], parameters[\"phi_SO\"])\n",
    "    \n",
    "    # Cosine of the magnetic polar angle\n",
    "    cos_theta_mu = cos_magnetic_polar_angle(dipole_unit_vector, r_vector, r_scalar)\n",
    "    \n",
    "    # Local B-field strength\n",
    "    B_field = dipole_field_strength(cos_theta_mu, r_scalar, mu_B)\n",
    "    \n",
    "    # Angle between line-of-sight & local B-field direction\n",
    "    sin_kappa = get_sin_kappa(cos_theta_mu, r_vector[0], r_scalar, dipole_unit_vector[0])\n",
    "    \n",
    "    # Computes the optical depth at each point\n",
    "    tau = np.array([])\n",
    "    for i in range(0, len(time)):\n",
    "        if r_scalar[i]/(np.sin(np.arccos(cos_theta_mu[i]))**2.) < R_mag:\n",
    "            \n",
    "            # Local B-field strength\n",
    "            B_field = dipole_field_strength(cos_theta_mu, r_scalar[i], mu_B)\n",
    "            \n",
    "            # Angle between line-of-sight & local B-field direction\n",
    "            sin_kappa = get_sin_kappa(cos_theta_mu, r_vector[0], r_scalar[i], dipole_unit_vector[0])\n",
    "            \n",
    "            optical_depth = get_optical_depth(parameters[\"xi\"], parameters[\"freq\"], \n",
    "                                      B_field[i], B_mag, sin_kappa, r_vector[0], R_mag)\n",
    "            tau = np.append(tau, optical_depth)\n",
    "        else:\n",
    "            tau = np.append(tau, 0.0)\n",
    "    return np.exp(tau)"
   ]
  },
  {
   "cell_type": "code",
   "execution_count": 13,
   "metadata": {},
   "outputs": [],
   "source": [
    "n_bin = 256\n",
    "\n",
    "# Binary parameters\n",
    "a = 8.8e10 * u.cm\n",
    "i = 90 * u.deg\n",
    "\n",
    "# Orbital & magnetospehric params\n",
    "time = np.linspace(0, 24.5*2, n_bin) * u.s\n",
    "phi_orb = (np.linspace(-2, 2, n_bin) + 90) * u.deg\n",
    "R_mag = 1.5e9 * u.cm\n",
    "B_mag = np.sqrt((2 * 5.8e33)/((8e10)**2 * c.c)).value * u.G\n",
    "mu_B = (1e11 * u.G) * (1.3e6 * u.cm)**3.\n",
    "\n",
    "# Cartesian coords\n",
    "x = np.linspace(-R_mag, R_mag, n_bin)\n",
    "y = get_y_from_orbital_phase(a, phi_orb)\n",
    "z = -7.5e8 * u.cm\n",
    "\n",
    "r_vector = [x, y, z]\n",
    "\n",
    "# Fitting parameters\n",
    "parameters = dict(alpha=72*u.deg, delta=59.4*u.deg, phi_SO=75*u.deg, i=i, xi=2, freq=1)"
   ]
  },
  {
   "cell_type": "code",
   "execution_count": 14,
   "metadata": {},
   "outputs": [],
   "source": [
    "eclipse_profile = light_curve(time, r_vector, R_mag, B_mag, mu_B, parameters)"
   ]
  },
  {
   "cell_type": "code",
   "execution_count": 15,
   "metadata": {},
   "outputs": [
    {
     "data": {
      "image/png": "[encoded data removed]",
      "text/plain": [
       "<Figure size 432x288 with 1 Axes>"
      ]
     },
     "metadata": {
      "needs_background": "light"
     },
     "output_type": "display_data"
    }
   ],
   "source": [
    "plt.plot(phi_orb - 90*u.deg, eclipse_profile)\n",
    "plt.xlabel(\"Orbital phase ({0})\".format(phi_orb.unit))\n",
    "plt.ylabel(\"Intensity (arb. units)\")\n",
    "plt.xlim(-1,1)\n",
    "plt.show()"
   ]
  },
  {
   "cell_type": "code",
   "execution_count": null,
   "metadata": {},
   "outputs": [],
   "source": []
  }
 ],
 "metadata": {
  "kernelspec": {
   "display_name": "Python 3",
   "language": "python",
   "name": "python3"
  },
  "language_info": {
   "codemirror_mode": {
    "name": "ipython",
    "version": 3
   },
   "file_extension": ".py",
   "mimetype": "text/x-python",
   "name": "python",
   "nbconvert_exporter": "python",
   "pygments_lexer": "ipython3",
   "version": "3.7.4"
  }
 },
 "nbformat": 4,
 "nbformat_minor": 4
}
